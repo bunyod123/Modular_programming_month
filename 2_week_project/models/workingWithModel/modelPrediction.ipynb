{
 "cells": [
  {
   "cell_type": "markdown",
   "id": "384e1404",
   "metadata": {},
   "source": [
    "# kutubxonalarni chaqiramiz"
   ]
  },
  {
   "cell_type": "code",
   "execution_count": 1,
   "id": "40269c38",
   "metadata": {},
   "outputs": [],
   "source": [
    "import pandas as pd\n",
    "import numpy as np\n",
    "\n",
    "from joblib import dump\n",
    "import os\n",
    "\n",
    "from sklearn.model_selection import train_test_split, KFold,cross_val_score\n",
    "from sklearn.feature_selection import RFE\n",
    "\n",
    "from sklearn.tree import DecisionTreeClassifier\n",
    "from sklearn.ensemble import RandomForestClassifier,GradientBoostingClassifier\n",
    "from sklearn.svm import SVC\n",
    "from sklearn.linear_model import LogisticRegression\n",
    "from sklearn.neighbors import NearestNeighbors\n",
    "from xgboost import XGBClassifier\n",
    "\n",
    "Xgb_Clas = XGBClassifier()\n",
    "N_neig = NearestNeighbors()\n",
    "DT_Clas = DecisionTreeClassifier()\n",
    "RF_Clas = RandomForestClassifier()\n",
    "SV_Clas = SVC()\n",
    "LR_Clas = LogisticRegression()\n",
    "\n",
    "from sklearn.metrics import accuracy_score"
   ]
  },
  {
   "cell_type": "markdown",
   "id": "27e68781",
   "metadata": {},
   "source": [
    "# Datasetni yuklaymiz"
   ]
  },
  {
   "cell_type": "code",
   "execution_count": 5,
   "id": "43316825",
   "metadata": {},
   "outputs": [],
   "source": [
    "df = pd.read_csv(r\"C:\\Users\\bunyo\\OneDrive\\Desktop\\git_project\\2_week_project\\data\\preprocessed_data\\preprocessed_data.csv\")"
   ]
  },
  {
   "cell_type": "code",
   "execution_count": 6,
   "id": "63f1a15e",
   "metadata": {},
   "outputs": [
    {
     "name": "stdout",
     "output_type": "stream",
     "text": [
      "<class 'pandas.core.frame.DataFrame'>\n",
      "RangeIndex: 22899 entries, 0 to 22898\n",
      "Data columns (total 22 columns):\n",
      " #   Column                          Non-Null Count  Dtype  \n",
      "---  ------                          --------------  -----  \n",
      " 0   latitude                        22899 non-null  float64\n",
      " 1   longitude                       22899 non-null  float64\n",
      " 2   mag                             22899 non-null  float64\n",
      " 3   clustering_coefficient_30_days  22899 non-null  float64\n",
      " 4   std_mag_30_days                 22899 non-null  float64\n",
      " 5   rolling_mean_depth_30_days      22899 non-null  float64\n",
      " 6   earthquakes_last_30_days        22899 non-null  float64\n",
      " 7   b_value                         22899 non-null  float64\n",
      " 8   b_value_increment_i_i2          22899 non-null  float64\n",
      " 9   b_value_increment_i2_i4         22899 non-null  float64\n",
      " 10  b_value_increment_i4_i6         22899 non-null  float64\n",
      " 11  b_value_increment_i6_i8         22899 non-null  float64\n",
      " 12  b_value_increment_i8_i10        22899 non-null  float64\n",
      " 13  max_mag_last_week               22899 non-null  float64\n",
      " 14  eta                             22899 non-null  float64\n",
      " 15  delta_M                         22899 non-null  float64\n",
      " 16  elapsed_time                    22899 non-null  float64\n",
      " 17  coefficient_of_variation        22899 non-null  float64\n",
      " 18  dE1_2                           22899 non-null  float64\n",
      " 19  class                           22899 non-null  int64  \n",
      " 20  mag_depth_ratio                 22899 non-null  float64\n",
      " 21  recent_activity_rate            22899 non-null  float64\n",
      "dtypes: float64(21), int64(1)\n",
      "memory usage: 3.8 MB\n"
     ]
    }
   ],
   "source": [
    "df.info()"
   ]
  },
  {
   "cell_type": "markdown",
   "id": "01def369",
   "metadata": {},
   "source": [
    "# Filter bilan eng yaxshi feturelarni olamiz"
   ]
  },
  {
   "cell_type": "code",
   "execution_count": 7,
   "id": "cca58856",
   "metadata": {},
   "outputs": [
    {
     "data": {
      "text/plain": [
       "latitude                          0.028836\n",
       "longitude                        -0.073590\n",
       "mag                               0.036746\n",
       "clustering_coefficient_30_days   -0.005725\n",
       "std_mag_30_days                   0.024852\n",
       "rolling_mean_depth_30_days       -0.058665\n",
       "earthquakes_last_30_days         -0.009482\n",
       "b_value                          -0.035609\n",
       "b_value_increment_i_i2            0.000415\n",
       "b_value_increment_i2_i4           0.000202\n",
       "b_value_increment_i4_i6           0.000345\n",
       "b_value_increment_i6_i8           0.000534\n",
       "b_value_increment_i8_i10          0.000439\n",
       "max_mag_last_week                 0.036399\n",
       "eta                               0.037867\n",
       "delta_M                          -0.007755\n",
       "elapsed_time                     -0.011789\n",
       "coefficient_of_variation          0.075612\n",
       "dE1_2                             0.124231\n",
       "class                             1.000000\n",
       "mag_depth_ratio                   0.004803\n",
       "recent_activity_rate              0.010731\n",
       "Name: class, dtype: float64"
      ]
     },
     "execution_count": 7,
     "metadata": {},
     "output_type": "execute_result"
    }
   ],
   "source": [
    "corr_Df = df.corr()['class']\n",
    "corr_Df"
   ]
  },
  {
   "cell_type": "code",
   "execution_count": 9,
   "id": "29cc9b08",
   "metadata": {},
   "outputs": [
    {
     "data": {
      "text/plain": [
       "latitude                      0.028836\n",
       "longitude                    -0.073590\n",
       "mag                           0.036746\n",
       "std_mag_30_days               0.024852\n",
       "rolling_mean_depth_30_days   -0.058665\n",
       "b_value                      -0.035609\n",
       "max_mag_last_week             0.036399\n",
       "eta                           0.037867\n",
       "elapsed_time                 -0.011789\n",
       "coefficient_of_variation      0.075612\n",
       "dE1_2                         0.124231\n",
       "class                         1.000000\n",
       "recent_activity_rate          0.010731\n",
       "Name: class, dtype: float64"
      ]
     },
     "execution_count": 9,
     "metadata": {},
     "output_type": "execute_result"
    }
   ],
   "source": [
    "corr_df = corr_Df[abs(corr_Df) > 0.01]\n",
    "corr_df"
   ]
  },
  {
   "cell_type": "markdown",
   "id": "c585cc08",
   "metadata": {},
   "source": [
    "# kerakli ustunlarni saqlab qoyamiz"
   ]
  },
  {
   "cell_type": "code",
   "execution_count": 15,
   "id": "df213115",
   "metadata": {},
   "outputs": [],
   "source": [
    "df_corr = df[corr_df.index]"
   ]
  },
  {
   "cell_type": "markdown",
   "id": "0b45fa4a",
   "metadata": {},
   "source": [
    "# -----------------------------------------------------------------"
   ]
  },
  {
   "cell_type": "markdown",
   "id": "b18c3e00",
   "metadata": {},
   "source": [
    " # ikki xil yol tutamiz filter methodi bilan va filtersiz model yasaymiz, bunga sabab\n",
    " # filter qisak kerakli ustunlarni ham tashab ketyapti, shuning uchun wraper va embeded dan foydalanamiz"
   ]
  },
  {
   "cell_type": "markdown",
   "id": "9becabc9",
   "metadata": {},
   "source": [
    "# -----------------------------------------------------------------\n",
    "\n"
   ]
  },
  {
   "cell_type": "markdown",
   "id": "7eb3a320",
   "metadata": {},
   "source": [
    "# datasetni bolamiz(filtersiz)"
   ]
  },
  {
   "cell_type": "code",
   "execution_count": 10,
   "id": "fc21a6eb",
   "metadata": {},
   "outputs": [],
   "source": [
    "x = df.drop('class',axis=1)\n",
    "y = df['class']"
   ]
  },
  {
   "cell_type": "markdown",
   "id": "66afda3f",
   "metadata": {},
   "source": [
    "# filter ishlatilgan datasetni bolamiz"
   ]
  },
  {
   "cell_type": "code",
   "execution_count": 21,
   "id": "20985c15",
   "metadata": {},
   "outputs": [],
   "source": [
    "x1 = df_corr.drop('class',axis=1)\n",
    "y1 = df_corr['class']"
   ]
  },
  {
   "cell_type": "markdown",
   "id": "d55c1015",
   "metadata": {},
   "source": [
    "# train test ga ajratamiz(filtersiz datani)"
   ]
  },
  {
   "cell_type": "code",
   "execution_count": 20,
   "id": "9906d0ce",
   "metadata": {},
   "outputs": [],
   "source": [
    "x_train,x_test,y_train,y_test = train_test_split(x,y, test_size=0.23, random_state=99)"
   ]
  },
  {
   "cell_type": "markdown",
   "id": "8ea5791e",
   "metadata": {},
   "source": [
    "# filter ishlatilgan datani ajratamiz"
   ]
  },
  {
   "cell_type": "code",
   "execution_count": 22,
   "id": "e9805d75",
   "metadata": {},
   "outputs": [],
   "source": [
    "x1_train,x1_test,y1_train,y1_test = train_test_split(x1,y1, test_size=0.2, random_state=100)"
   ]
  },
  {
   "cell_type": "markdown",
   "id": "cbf43c99",
   "metadata": {},
   "source": [
    "# ||---  algorithm lar bilan ishlashni boshlaymiz  ---||"
   ]
  },
  {
   "cell_type": "markdown",
   "id": "3a9360ec",
   "metadata": {},
   "source": [
    "\n",
    "\n",
    "# DECISION TREE(FILTERSIZ)"
   ]
  },
  {
   "cell_type": "code",
   "execution_count": 23,
   "id": "1ae18260",
   "metadata": {},
   "outputs": [
    {
     "name": "stdout",
     "output_type": "stream",
     "text": [
      "0.9111448642490981\n"
     ]
    }
   ],
   "source": [
    "Rfe = RFE(DT_Clas, n_features_to_select=10)\n",
    "Rfe.fit(x_train, y_train)\n",
    "selected_features = x_train.columns[Rfe.support_]\n",
    "\n",
    "DT_Clas.fit(x_train[selected_features], y_train)\n",
    "pred4 = DT_Clas.predict(x_test[selected_features])\n",
    "\n",
    "print(accuracy_score(y_test, pred4))"
   ]
  },
  {
   "cell_type": "markdown",
   "id": "582e5b43",
   "metadata": {},
   "source": [
    "# DECISION TREE (FILTER ISHLATILGAN DATA BILAN)"
   ]
  },
  {
   "cell_type": "code",
   "execution_count": 25,
   "id": "09bb14b1",
   "metadata": {},
   "outputs": [
    {
     "name": "stdout",
     "output_type": "stream",
     "text": [
      "0.885589519650655\n"
     ]
    }
   ],
   "source": [
    "Rfe = RFE(DT_Clas, n_features_to_select=10)\n",
    "Rfe.fit(x1_train, y1_train)\n",
    "selected_features = x1_train.columns[Rfe.support_]\n",
    "\n",
    "DT_Clas.fit(x1_train[selected_features], y1_train)\n",
    "pred4_1 = DT_Clas.predict(x1_test[selected_features])\n",
    "\n",
    "print(accuracy_score(y1_test, pred4_1))"
   ]
  },
  {
   "cell_type": "markdown",
   "id": "8a118980",
   "metadata": {},
   "source": [
    "#  RANDOM FOREST (FILTER METHOD SIZ DATA BILAN)"
   ]
  },
  {
   "cell_type": "code",
   "execution_count": 26,
   "id": "97916e38",
   "metadata": {},
   "outputs": [
    {
     "name": "stdout",
     "output_type": "stream",
     "text": [
      "0.9813935826846402\n"
     ]
    }
   ],
   "source": [
    "Rfe = RFE(RF_Clas, n_features_to_select=10) \n",
    "Rfe.fit(x_train, y_train)\n",
    "selected_features = x_train.columns[Rfe.support_]\n",
    "\n",
    "RF_Clas.fit(x_train[selected_features], y_train)\n",
    "pred3 = RF_Clas.predict(x_test[selected_features])\n",
    "\n",
    "print(accuracy_score(y_test, pred3))"
   ]
  },
  {
   "cell_type": "markdown",
   "id": "e9ffb3ca",
   "metadata": {},
   "source": [
    "# RANDOM FOREST(Filter methodi ishlatilgan data bilan)"
   ]
  },
  {
   "cell_type": "code",
   "execution_count": 27,
   "id": "c82616af",
   "metadata": {},
   "outputs": [
    {
     "name": "stdout",
     "output_type": "stream",
     "text": [
      "0.9729257641921397\n"
     ]
    }
   ],
   "source": [
    "Rfe = RFE(RF_Clas, n_features_to_select=10) \n",
    "Rfe.fit(x1_train, y1_train)\n",
    "selected_features = x1_train.columns[Rfe.support_]\n",
    "\n",
    "RF_Clas.fit(x1_train[selected_features], y1_train)\n",
    "pred3_1 = RF_Clas.predict(x1_test[selected_features])\n",
    "\n",
    "print(accuracy_score(y1_test, pred3_1))"
   ]
  },
  {
   "cell_type": "markdown",
   "id": "e49dbeb9",
   "metadata": {},
   "source": [
    "# XGBoost (Filter method ishlatilmagan data bilan)"
   ]
  },
  {
   "cell_type": "code",
   "execution_count": 31,
   "id": "799e19f6",
   "metadata": {},
   "outputs": [
    {
     "ename": "ValueError",
     "evalue": "Invalid classes inferred from unique values of `y`.  Expected: [0 1 2 3 4 5], got [1 2 3 4 5 6]",
     "output_type": "error",
     "traceback": [
      "\u001b[1;31m---------------------------------------------------------------------------\u001b[0m",
      "\u001b[1;31mValueError\u001b[0m                                Traceback (most recent call last)",
      "Cell \u001b[1;32mIn[31], line 2\u001b[0m\n\u001b[0;32m      1\u001b[0m Rfe \u001b[38;5;241m=\u001b[39m RFE(Xgb_Clas, n_features_to_select\u001b[38;5;241m=\u001b[39m\u001b[38;5;241m10\u001b[39m)\n\u001b[1;32m----> 2\u001b[0m Rfe\u001b[38;5;241m.\u001b[39mfit(x_train, y_train)\n\u001b[0;32m      3\u001b[0m selected_features \u001b[38;5;241m=\u001b[39m x_train\u001b[38;5;241m.\u001b[39mcolumns[Rfe\u001b[38;5;241m.\u001b[39msupport_]\n\u001b[0;32m      5\u001b[0m Xgb_Clas\u001b[38;5;241m.\u001b[39mfit(x_train[selected_features], y_train)\n",
      "File \u001b[1;32mc:\\Users\\bunyo\\anaconda3\\Lib\\site-packages\\sklearn\\base.py:1389\u001b[0m, in \u001b[0;36m_fit_context.<locals>.decorator.<locals>.wrapper\u001b[1;34m(estimator, *args, **kwargs)\u001b[0m\n\u001b[0;32m   1382\u001b[0m     estimator\u001b[38;5;241m.\u001b[39m_validate_params()\n\u001b[0;32m   1384\u001b[0m \u001b[38;5;28;01mwith\u001b[39;00m config_context(\n\u001b[0;32m   1385\u001b[0m     skip_parameter_validation\u001b[38;5;241m=\u001b[39m(\n\u001b[0;32m   1386\u001b[0m         prefer_skip_nested_validation \u001b[38;5;129;01mor\u001b[39;00m global_skip_validation\n\u001b[0;32m   1387\u001b[0m     )\n\u001b[0;32m   1388\u001b[0m ):\n\u001b[1;32m-> 1389\u001b[0m     \u001b[38;5;28;01mreturn\u001b[39;00m fit_method(estimator, \u001b[38;5;241m*\u001b[39margs, \u001b[38;5;241m*\u001b[39m\u001b[38;5;241m*\u001b[39mkwargs)\n",
      "File \u001b[1;32mc:\\Users\\bunyo\\anaconda3\\Lib\\site-packages\\sklearn\\feature_selection\\_rfe.py:276\u001b[0m, in \u001b[0;36mRFE.fit\u001b[1;34m(self, X, y, **fit_params)\u001b[0m\n\u001b[0;32m    273\u001b[0m \u001b[38;5;28;01melse\u001b[39;00m:\n\u001b[0;32m    274\u001b[0m     routed_params \u001b[38;5;241m=\u001b[39m Bunch(estimator\u001b[38;5;241m=\u001b[39mBunch(fit\u001b[38;5;241m=\u001b[39mfit_params))\n\u001b[1;32m--> 276\u001b[0m \u001b[38;5;28;01mreturn\u001b[39;00m \u001b[38;5;28mself\u001b[39m\u001b[38;5;241m.\u001b[39m_fit(X, y, \u001b[38;5;241m*\u001b[39m\u001b[38;5;241m*\u001b[39mrouted_params\u001b[38;5;241m.\u001b[39mestimator\u001b[38;5;241m.\u001b[39mfit)\n",
      "File \u001b[1;32mc:\\Users\\bunyo\\anaconda3\\Lib\\site-packages\\sklearn\\feature_selection\\_rfe.py:332\u001b[0m, in \u001b[0;36mRFE._fit\u001b[1;34m(self, X, y, step_score, **fit_params)\u001b[0m\n\u001b[0;32m    329\u001b[0m \u001b[38;5;28;01mif\u001b[39;00m \u001b[38;5;28mself\u001b[39m\u001b[38;5;241m.\u001b[39mverbose \u001b[38;5;241m>\u001b[39m \u001b[38;5;241m0\u001b[39m:\n\u001b[0;32m    330\u001b[0m     \u001b[38;5;28mprint\u001b[39m(\u001b[38;5;124m\"\u001b[39m\u001b[38;5;124mFitting estimator with \u001b[39m\u001b[38;5;132;01m%d\u001b[39;00m\u001b[38;5;124m features.\u001b[39m\u001b[38;5;124m\"\u001b[39m \u001b[38;5;241m%\u001b[39m np\u001b[38;5;241m.\u001b[39msum(support_))\n\u001b[1;32m--> 332\u001b[0m estimator\u001b[38;5;241m.\u001b[39mfit(X[:, features], y, \u001b[38;5;241m*\u001b[39m\u001b[38;5;241m*\u001b[39mfit_params)\n\u001b[0;32m    334\u001b[0m \u001b[38;5;66;03m# Get importance and rank them\u001b[39;00m\n\u001b[0;32m    335\u001b[0m importances \u001b[38;5;241m=\u001b[39m _get_feature_importances(\n\u001b[0;32m    336\u001b[0m     estimator,\n\u001b[0;32m    337\u001b[0m     \u001b[38;5;28mself\u001b[39m\u001b[38;5;241m.\u001b[39mimportance_getter,\n\u001b[0;32m    338\u001b[0m     transform_func\u001b[38;5;241m=\u001b[39m\u001b[38;5;124m\"\u001b[39m\u001b[38;5;124msquare\u001b[39m\u001b[38;5;124m\"\u001b[39m,\n\u001b[0;32m    339\u001b[0m )\n",
      "File \u001b[1;32mc:\\Users\\bunyo\\anaconda3\\Lib\\site-packages\\xgboost\\core.py:729\u001b[0m, in \u001b[0;36mrequire_keyword_args.<locals>.throw_if.<locals>.inner_f\u001b[1;34m(*args, **kwargs)\u001b[0m\n\u001b[0;32m    727\u001b[0m \u001b[38;5;28;01mfor\u001b[39;00m k, arg \u001b[38;5;129;01min\u001b[39;00m \u001b[38;5;28mzip\u001b[39m(sig\u001b[38;5;241m.\u001b[39mparameters, args):\n\u001b[0;32m    728\u001b[0m     kwargs[k] \u001b[38;5;241m=\u001b[39m arg\n\u001b[1;32m--> 729\u001b[0m \u001b[38;5;28;01mreturn\u001b[39;00m func(\u001b[38;5;241m*\u001b[39m\u001b[38;5;241m*\u001b[39mkwargs)\n",
      "File \u001b[1;32mc:\\Users\\bunyo\\anaconda3\\Lib\\site-packages\\xgboost\\sklearn.py:1641\u001b[0m, in \u001b[0;36mXGBClassifier.fit\u001b[1;34m(self, X, y, sample_weight, base_margin, eval_set, verbose, xgb_model, sample_weight_eval_set, base_margin_eval_set, feature_weights)\u001b[0m\n\u001b[0;32m   1636\u001b[0m     expected_classes \u001b[38;5;241m=\u001b[39m \u001b[38;5;28mself\u001b[39m\u001b[38;5;241m.\u001b[39mclasses_\n\u001b[0;32m   1637\u001b[0m \u001b[38;5;28;01mif\u001b[39;00m (\n\u001b[0;32m   1638\u001b[0m     classes\u001b[38;5;241m.\u001b[39mshape \u001b[38;5;241m!=\u001b[39m expected_classes\u001b[38;5;241m.\u001b[39mshape\n\u001b[0;32m   1639\u001b[0m     \u001b[38;5;129;01mor\u001b[39;00m \u001b[38;5;129;01mnot\u001b[39;00m (classes \u001b[38;5;241m==\u001b[39m expected_classes)\u001b[38;5;241m.\u001b[39mall()\n\u001b[0;32m   1640\u001b[0m ):\n\u001b[1;32m-> 1641\u001b[0m     \u001b[38;5;28;01mraise\u001b[39;00m \u001b[38;5;167;01mValueError\u001b[39;00m(\n\u001b[0;32m   1642\u001b[0m         \u001b[38;5;124mf\u001b[39m\u001b[38;5;124m\"\u001b[39m\u001b[38;5;124mInvalid classes inferred from unique values of `y`.  \u001b[39m\u001b[38;5;124m\"\u001b[39m\n\u001b[0;32m   1643\u001b[0m         \u001b[38;5;124mf\u001b[39m\u001b[38;5;124m\"\u001b[39m\u001b[38;5;124mExpected: \u001b[39m\u001b[38;5;132;01m{\u001b[39;00mexpected_classes\u001b[38;5;132;01m}\u001b[39;00m\u001b[38;5;124m, got \u001b[39m\u001b[38;5;132;01m{\u001b[39;00mclasses\u001b[38;5;132;01m}\u001b[39;00m\u001b[38;5;124m\"\u001b[39m\n\u001b[0;32m   1644\u001b[0m     )\n\u001b[0;32m   1646\u001b[0m params \u001b[38;5;241m=\u001b[39m \u001b[38;5;28mself\u001b[39m\u001b[38;5;241m.\u001b[39mget_xgb_params()\n\u001b[0;32m   1648\u001b[0m \u001b[38;5;28;01mif\u001b[39;00m \u001b[38;5;28mcallable\u001b[39m(\u001b[38;5;28mself\u001b[39m\u001b[38;5;241m.\u001b[39mobjective):\n",
      "\u001b[1;31mValueError\u001b[0m: Invalid classes inferred from unique values of `y`.  Expected: [0 1 2 3 4 5], got [1 2 3 4 5 6]"
     ]
    }
   ],
   "source": [
    "Rfe = RFE(Xgb_Clas, n_features_to_select=10)\n",
    "Rfe.fit(x_train, y_train)\n",
    "selected_features = x_train.columns[Rfe.support_]\n",
    "\n",
    "Xgb_Clas.fit(x_train[selected_features], y_train)\n",
    "pred2 = Xgb_Clas.predict(x_test[selected_features])\n",
    "\n",
    "print(accuracy_score(y_test, pred2))"
   ]
  }
 ],
 "metadata": {
  "kernelspec": {
   "display_name": "base",
   "language": "python",
   "name": "python3"
  },
  "language_info": {
   "codemirror_mode": {
    "name": "ipython",
    "version": 3
   },
   "file_extension": ".py",
   "mimetype": "text/x-python",
   "name": "python",
   "nbconvert_exporter": "python",
   "pygments_lexer": "ipython3",
   "version": "3.13.5"
  }
 },
 "nbformat": 4,
 "nbformat_minor": 5
}
