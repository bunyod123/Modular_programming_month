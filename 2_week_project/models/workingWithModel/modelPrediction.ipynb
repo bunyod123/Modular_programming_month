{
 "cells": [
  {
   "cell_type": "markdown",
   "id": "384e1404",
   "metadata": {},
   "source": [
    "# kutubxonalarni chaqiramiz"
   ]
  },
  {
   "cell_type": "code",
   "execution_count": 1,
   "id": "40269c38",
   "metadata": {},
   "outputs": [],
   "source": [
    "import pandas as pd\n",
    "import numpy as np\n",
    "\n",
    "from joblib import dump\n",
    "import os\n",
    "\n",
    "from sklearn.model_selection import train_test_split, KFold,cross_val_score\n",
    "from sklearn.feature_selection import RFE\n",
    "\n",
    "from sklearn.tree import DecisionTreeClassifier\n",
    "from sklearn.ensemble import RandomForestClassifier,GradientBoostingClassifier\n",
    "from sklearn.svm import SVC\n",
    "from sklearn.linear_model import LogisticRegression\n",
    "from sklearn.neighbors import NearestNeighbors\n",
    "from xgboost import XGBClassifier\n",
    "\n",
    "Xgb_Clas = XGBClassifier()\n",
    "N_neig = NearestNeighbors()\n",
    "DT_Clas = DecisionTreeClassifier()\n",
    "RF_Clas = RandomForestClassifier()\n",
    "SV_Clas = SVC()\n",
    "LR_Clas = LogisticRegression()\n",
    "\n",
    "from sklearn.metrics import accuracy_score"
   ]
  },
  {
   "cell_type": "markdown",
   "id": "27e68781",
   "metadata": {},
   "source": [
    "# Datasetni yuklaymiz"
   ]
  },
  {
   "cell_type": "code",
   "execution_count": 5,
   "id": "43316825",
   "metadata": {},
   "outputs": [],
   "source": [
    "df = pd.read_csv(r\"C:\\Users\\bunyo\\OneDrive\\Desktop\\git_project\\2_week_project\\data\\preprocessed_data\\preprocessed_data.csv\")"
   ]
  },
  {
   "cell_type": "code",
   "execution_count": 6,
   "id": "63f1a15e",
   "metadata": {},
   "outputs": [
    {
     "name": "stdout",
     "output_type": "stream",
     "text": [
      "<class 'pandas.core.frame.DataFrame'>\n",
      "RangeIndex: 22899 entries, 0 to 22898\n",
      "Data columns (total 22 columns):\n",
      " #   Column                          Non-Null Count  Dtype  \n",
      "---  ------                          --------------  -----  \n",
      " 0   latitude                        22899 non-null  float64\n",
      " 1   longitude                       22899 non-null  float64\n",
      " 2   mag                             22899 non-null  float64\n",
      " 3   clustering_coefficient_30_days  22899 non-null  float64\n",
      " 4   std_mag_30_days                 22899 non-null  float64\n",
      " 5   rolling_mean_depth_30_days      22899 non-null  float64\n",
      " 6   earthquakes_last_30_days        22899 non-null  float64\n",
      " 7   b_value                         22899 non-null  float64\n",
      " 8   b_value_increment_i_i2          22899 non-null  float64\n",
      " 9   b_value_increment_i2_i4         22899 non-null  float64\n",
      " 10  b_value_increment_i4_i6         22899 non-null  float64\n",
      " 11  b_value_increment_i6_i8         22899 non-null  float64\n",
      " 12  b_value_increment_i8_i10        22899 non-null  float64\n",
      " 13  max_mag_last_week               22899 non-null  float64\n",
      " 14  eta                             22899 non-null  float64\n",
      " 15  delta_M                         22899 non-null  float64\n",
      " 16  elapsed_time                    22899 non-null  float64\n",
      " 17  coefficient_of_variation        22899 non-null  float64\n",
      " 18  dE1_2                           22899 non-null  float64\n",
      " 19  class                           22899 non-null  int64  \n",
      " 20  mag_depth_ratio                 22899 non-null  float64\n",
      " 21  recent_activity_rate            22899 non-null  float64\n",
      "dtypes: float64(21), int64(1)\n",
      "memory usage: 3.8 MB\n"
     ]
    }
   ],
   "source": [
    "df.info()"
   ]
  },
  {
   "cell_type": "markdown",
   "id": "01def369",
   "metadata": {},
   "source": [
    "# Filter bilan eng yaxshi feturelarni olamiz"
   ]
  },
  {
   "cell_type": "code",
   "execution_count": 7,
   "id": "cca58856",
   "metadata": {},
   "outputs": [
    {
     "data": {
      "text/plain": [
       "latitude                          0.028836\n",
       "longitude                        -0.073590\n",
       "mag                               0.036746\n",
       "clustering_coefficient_30_days   -0.005725\n",
       "std_mag_30_days                   0.024852\n",
       "rolling_mean_depth_30_days       -0.058665\n",
       "earthquakes_last_30_days         -0.009482\n",
       "b_value                          -0.035609\n",
       "b_value_increment_i_i2            0.000415\n",
       "b_value_increment_i2_i4           0.000202\n",
       "b_value_increment_i4_i6           0.000345\n",
       "b_value_increment_i6_i8           0.000534\n",
       "b_value_increment_i8_i10          0.000439\n",
       "max_mag_last_week                 0.036399\n",
       "eta                               0.037867\n",
       "delta_M                          -0.007755\n",
       "elapsed_time                     -0.011789\n",
       "coefficient_of_variation          0.075612\n",
       "dE1_2                             0.124231\n",
       "class                             1.000000\n",
       "mag_depth_ratio                   0.004803\n",
       "recent_activity_rate              0.010731\n",
       "Name: class, dtype: float64"
      ]
     },
     "execution_count": 7,
     "metadata": {},
     "output_type": "execute_result"
    }
   ],
   "source": [
    "corr_Df = df.corr()['class']\n",
    "corr_Df"
   ]
  },
  {
   "cell_type": "code",
   "execution_count": 9,
   "id": "29cc9b08",
   "metadata": {},
   "outputs": [
    {
     "data": {
      "text/plain": [
       "latitude                      0.028836\n",
       "longitude                    -0.073590\n",
       "mag                           0.036746\n",
       "std_mag_30_days               0.024852\n",
       "rolling_mean_depth_30_days   -0.058665\n",
       "b_value                      -0.035609\n",
       "max_mag_last_week             0.036399\n",
       "eta                           0.037867\n",
       "elapsed_time                 -0.011789\n",
       "coefficient_of_variation      0.075612\n",
       "dE1_2                         0.124231\n",
       "class                         1.000000\n",
       "recent_activity_rate          0.010731\n",
       "Name: class, dtype: float64"
      ]
     },
     "execution_count": 9,
     "metadata": {},
     "output_type": "execute_result"
    }
   ],
   "source": [
    "corr_df = corr_Df[abs(corr_Df) > 0.01]\n",
    "corr_df"
   ]
  },
  {
   "cell_type": "markdown",
   "id": "c585cc08",
   "metadata": {},
   "source": [
    "# kerakli ustunlarni saqlab qoyamiz"
   ]
  },
  {
   "cell_type": "code",
   "execution_count": 15,
   "id": "df213115",
   "metadata": {},
   "outputs": [],
   "source": [
    "df_corr = df[corr_df.index]"
   ]
  },
  {
   "cell_type": "markdown",
   "id": "0b45fa4a",
   "metadata": {},
   "source": [
    "# -----------------------------------------------------------------"
   ]
  },
  {
   "cell_type": "markdown",
   "id": "b18c3e00",
   "metadata": {},
   "source": [
    " # ikki xil yol tutamiz filter methodi bilan va filtersiz model yasaymiz, bunga sabab\n",
    " # filter qisak kerakli ustunlarni ham tashab ketyapti, shuning uchun wraper va embeded dan foydalanamiz"
   ]
  },
  {
   "cell_type": "markdown",
   "id": "9becabc9",
   "metadata": {},
   "source": [
    "# -----------------------------------------------------------------\n",
    "\n"
   ]
  },
  {
   "cell_type": "markdown",
   "id": "7eb3a320",
   "metadata": {},
   "source": [
    "# datasetni bolamiz(filtersiz)"
   ]
  },
  {
   "cell_type": "code",
   "execution_count": 10,
   "id": "fc21a6eb",
   "metadata": {},
   "outputs": [],
   "source": [
    "x = df.drop('class',axis=1)\n",
    "y = df['class']"
   ]
  },
  {
   "cell_type": "markdown",
   "id": "66afda3f",
   "metadata": {},
   "source": [
    "# filter ishlatilgan datasetni bolamiz"
   ]
  },
  {
   "cell_type": "code",
   "execution_count": 21,
   "id": "20985c15",
   "metadata": {},
   "outputs": [],
   "source": [
    "x1 = df_corr.drop('class',axis=1)\n",
    "y1 = df_corr['class']"
   ]
  },
  {
   "cell_type": "markdown",
   "id": "d55c1015",
   "metadata": {},
   "source": [
    "# train test ga ajratamiz(filtersiz datani)"
   ]
  },
  {
   "cell_type": "code",
   "execution_count": 20,
   "id": "9906d0ce",
   "metadata": {},
   "outputs": [],
   "source": [
    "x_train,x_test,y_train,y_test = train_test_split(x,y, test_size=0.23, random_state=99)"
   ]
  },
  {
   "cell_type": "markdown",
   "id": "8ea5791e",
   "metadata": {},
   "source": [
    "# filter ishlatilgan datani ajratamiz"
   ]
  },
  {
   "cell_type": "code",
   "execution_count": 37,
   "id": "e9805d75",
   "metadata": {},
   "outputs": [],
   "source": [
    "x1_train,x1_test,y1_train,y1_test = train_test_split(x1,y1, test_size=0.2, random_state=100)\n",
    "\n",
    "k_fold = KFold(n_splits=6,shuffle=True, random_state=99)"
   ]
  },
  {
   "cell_type": "markdown",
   "id": "cbf43c99",
   "metadata": {},
   "source": [
    "# ||---  algorithm lar bilan ishlashni boshlaymiz  ---||"
   ]
  },
  {
   "cell_type": "markdown",
   "id": "44ed242b",
   "metadata": {},
   "source": [
    "#  -----------------------------------------------------\n",
    "# dastlab filter methodi ishlatilmagan data bilan koramiz\n",
    "#  -----------------------------------------------------"
   ]
  },
  {
   "cell_type": "markdown",
   "id": "3a9360ec",
   "metadata": {},
   "source": [
    "\n",
    "\n",
    "# DECISION TREE"
   ]
  },
  {
   "cell_type": "code",
   "execution_count": 38,
   "id": "1ae18260",
   "metadata": {},
   "outputs": [
    {
     "name": "stdout",
     "output_type": "stream",
     "text": [
      " accuracy: 0.9145623694702867\n",
      "KFold: 0.9139261591683973\n"
     ]
    }
   ],
   "source": [
    "Rfe = RFE(DT_Clas, n_features_to_select=10)\n",
    "Rfe.fit(x_train, y_train)\n",
    "selected_features = x_train.columns[Rfe.support_]\n",
    "\n",
    "DT_Clas.fit(x_train[selected_features], y_train)\n",
    "pred4 = DT_Clas.predict(x_test[selected_features])\n",
    "\n",
    "crosValScore = cross_val_score(Rfe, x, y, cv=k_fold)\n",
    "\n",
    "print(f\" accuracy: {accuracy_score(y_test, pred4)}\")\n",
    "print(f\"KFold: {crosValScore.mean()}\")"
   ]
  },
  {
   "cell_type": "markdown",
   "id": "8a118980",
   "metadata": {},
   "source": [
    "#  RANDOM FOREST"
   ]
  },
  {
   "cell_type": "code",
   "execution_count": 39,
   "id": "97916e38",
   "metadata": {},
   "outputs": [
    {
     "name": "stdout",
     "output_type": "stream",
     "text": [
      " accuracy: 0.9821530282893488\n",
      "KFold: 0.979999263565274\n"
     ]
    }
   ],
   "source": [
    "Rfe = RFE(RF_Clas, n_features_to_select=10) \n",
    "Rfe.fit(x_train, y_train)\n",
    "selected_features = x_train.columns[Rfe.support_]\n",
    "\n",
    "RF_Clas.fit(x_train[selected_features], y_train)\n",
    "pred3 = RF_Clas.predict(x_test[selected_features])\n",
    "\n",
    "crosValScore = cross_val_score(Rfe, x, y, cv=k_fold)\n",
    "\n",
    "print(f\" accuracy: {accuracy_score(y_test, pred3)}\")\n",
    "print(f\"KFold: {crosValScore.mean()}\")"
   ]
  },
  {
   "cell_type": "markdown",
   "id": "e49dbeb9",
   "metadata": {},
   "source": [
    "# XGBoost"
   ]
  },
  {
   "cell_type": "code",
   "execution_count": null,
   "id": "799e19f6",
   "metadata": {},
   "outputs": [],
   "source": [
    "Rfe = RFE(Xgb_Clas, n_features_to_select=10)\n",
    "Rfe.fit(x_train, y_train)\n",
    "selected_features = x_train.columns[Rfe.support_]\n",
    "\n",
    "Xgb_Clas.fit(x_train[selected_features], y_train)\n",
    "pred2 = Xgb_Clas.predict(x_test[selected_features])\n",
    "\n",
    "crosValScore = cross_val_score(Rfe, x, y, cv=k_fold)\n",
    "\n",
    "print(f\" accuracy: {accuracy_score(y_test, pred2)}\")\n",
    "print(f\"KFold: {crosValScore.mean()}\")"
   ]
  },
  {
   "cell_type": "markdown",
   "id": "a578ebf3",
   "metadata": {},
   "source": [
    "# Gradient Boosting"
   ]
  },
  {
   "cell_type": "code",
   "execution_count": 41,
   "id": "e6c6e6ea",
   "metadata": {},
   "outputs": [
    {
     "name": "stdout",
     "output_type": "stream",
     "text": [
      " accuracy: 0.43933928232390357\n",
      "KFold: 0.4528145354364701\n"
     ]
    }
   ],
   "source": [
    "grBoost = GradientBoostingClassifier(n_estimators=9, max_depth=3, random_state=99)\n",
    "\n",
    "Rfe = RFE(grBoost, n_features_to_select=10)\n",
    "Rfe.fit(x_train, y_train)\n",
    "SelectedFeatures = x_train.columns[Rfe.support_]\n",
    "\n",
    "grBoost.fit(x_train[SelectedFeatures], y_train)\n",
    "pred1 = grBoost.predict(x_test[SelectedFeatures])\n",
    "\n",
    "crosValScore = cross_val_score(Rfe, x, y, cv=k_fold)\n",
    "\n",
    "print(f\" accuracy: {accuracy_score(y_test, pred1)}\")\n",
    "print(f\"KFold: {crosValScore.mean()}\")"
   ]
  },
  {
   "cell_type": "markdown",
   "id": "e6be4fe5",
   "metadata": {},
   "source": [
    "# Logistic Ragression"
   ]
  },
  {
   "cell_type": "code",
   "execution_count": null,
   "id": "2cb43d9e",
   "metadata": {},
   "outputs": [],
   "source": [
    "from linear_model import L1"
   ]
  },
  {
   "cell_type": "code",
   "execution_count": null,
   "id": "0d41a188",
   "metadata": {},
   "outputs": [],
   "source": [
    "LR_Clas.fit(x_train,y_train)\n"
   ]
  },
  {
   "cell_type": "code",
   "execution_count": null,
   "id": "6947d972",
   "metadata": {},
   "outputs": [],
   "source": []
  },
  {
   "cell_type": "code",
   "execution_count": null,
   "id": "5232d9b5",
   "metadata": {},
   "outputs": [],
   "source": []
  },
  {
   "cell_type": "code",
   "execution_count": null,
   "id": "2d974c45",
   "metadata": {},
   "outputs": [],
   "source": []
  },
  {
   "cell_type": "code",
   "execution_count": null,
   "id": "9e4109dc",
   "metadata": {},
   "outputs": [],
   "source": [
    "Rfe = RFE(DT_Clas, n_features_to_select=10)\n",
    "Rfe.fit(x1_train, y1_train)\n",
    "selected_features = x1_train.columns[Rfe.support_]\n",
    "\n",
    "DT_Clas.fit(x1_train[selected_features], y1_train)\n",
    "pred4_1 = DT_Clas.predict(x1_test[selected_features])\n",
    "\n",
    "print(accuracy_score(y1_test, pred4_1))"
   ]
  }
 ],
 "metadata": {
  "kernelspec": {
   "display_name": "base",
   "language": "python",
   "name": "python3"
  },
  "language_info": {
   "codemirror_mode": {
    "name": "ipython",
    "version": 3
   },
   "file_extension": ".py",
   "mimetype": "text/x-python",
   "name": "python",
   "nbconvert_exporter": "python",
   "pygments_lexer": "ipython3",
   "version": "3.13.5"
  }
 },
 "nbformat": 4,
 "nbformat_minor": 5
}
