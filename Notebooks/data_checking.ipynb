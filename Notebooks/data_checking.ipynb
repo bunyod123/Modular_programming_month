{
 "cells": [
  {
   "cell_type": "code",
   "execution_count": 1,
   "id": "bc1fae94",
   "metadata": {},
   "outputs": [],
   "source": [
    "import numpy as np\n",
    "import pandas as pd"
   ]
  },
  {
   "cell_type": "code",
   "execution_count": 24,
   "id": "36d5c59d",
   "metadata": {},
   "outputs": [],
   "source": [
    "df = pd.read_csv(r\"C:\\Users\\bunyo\\OneDrive\\Desktop\\git_project\\data\\raw_data\\weatherAUS.csv\")"
   ]
  },
  {
   "cell_type": "code",
   "execution_count": 25,
   "id": "4b1ac5b3",
   "metadata": {},
   "outputs": [
    {
     "name": "stdout",
     "output_type": "stream",
     "text": [
      "<class 'pandas.core.frame.DataFrame'>\n",
      "RangeIndex: 145460 entries, 0 to 145459\n",
      "Data columns (total 23 columns):\n",
      " #   Column         Non-Null Count   Dtype  \n",
      "---  ------         --------------   -----  \n",
      " 0   Date           145460 non-null  object \n",
      " 1   Location       145460 non-null  object \n",
      " 2   MinTemp        143975 non-null  float64\n",
      " 3   MaxTemp        144199 non-null  float64\n",
      " 4   Rainfall       142199 non-null  float64\n",
      " 5   Evaporation    82670 non-null   float64\n",
      " 6   Sunshine       75625 non-null   float64\n",
      " 7   WindGustDir    135134 non-null  object \n",
      " 8   WindGustSpeed  135197 non-null  float64\n",
      " 9   WindDir9am     134894 non-null  object \n",
      " 10  WindDir3pm     141232 non-null  object \n",
      " 11  WindSpeed9am   143693 non-null  float64\n",
      " 12  WindSpeed3pm   142398 non-null  float64\n",
      " 13  Humidity9am    142806 non-null  float64\n",
      " 14  Humidity3pm    140953 non-null  float64\n",
      " 15  Pressure9am    130395 non-null  float64\n",
      " 16  Pressure3pm    130432 non-null  float64\n",
      " 17  Cloud9am       89572 non-null   float64\n",
      " 18  Cloud3pm       86102 non-null   float64\n",
      " 19  Temp9am        143693 non-null  float64\n",
      " 20  Temp3pm        141851 non-null  float64\n",
      " 21  RainToday      142199 non-null  object \n",
      " 22  RainTomorrow   142193 non-null  object \n",
      "dtypes: float64(16), object(7)\n",
      "memory usage: 25.5+ MB\n"
     ]
    }
   ],
   "source": [
    "df.info()"
   ]
  },
  {
   "cell_type": "markdown",
   "id": "295e83f4",
   "metadata": {},
   "source": [
    "# dataset juda kattaligi uchun 25 ming qator ajratib olamiz"
   ]
  },
  {
   "cell_type": "code",
   "execution_count": 26,
   "id": "ff5863cc",
   "metadata": {},
   "outputs": [],
   "source": [
    "df = df.sample(n=25000,random_state=99)"
   ]
  },
  {
   "cell_type": "code",
   "execution_count": 27,
   "id": "7f39b5c4",
   "metadata": {},
   "outputs": [
    {
     "name": "stdout",
     "output_type": "stream",
     "text": [
      "<class 'pandas.core.frame.DataFrame'>\n",
      "Index: 25000 entries, 130887 to 35249\n",
      "Data columns (total 23 columns):\n",
      " #   Column         Non-Null Count  Dtype  \n",
      "---  ------         --------------  -----  \n",
      " 0   Date           25000 non-null  object \n",
      " 1   Location       25000 non-null  object \n",
      " 2   MinTemp        24754 non-null  float64\n",
      " 3   MaxTemp        24821 non-null  float64\n",
      " 4   Rainfall       24438 non-null  float64\n",
      " 5   Evaporation    14243 non-null  float64\n",
      " 6   Sunshine       13014 non-null  float64\n",
      " 7   WindGustDir    23222 non-null  object \n",
      " 8   WindGustSpeed  23235 non-null  float64\n",
      " 9   WindDir9am     23186 non-null  object \n",
      " 10  WindDir3pm     24277 non-null  object \n",
      " 11  WindSpeed9am   24684 non-null  float64\n",
      " 12  WindSpeed3pm   24490 non-null  float64\n",
      " 13  Humidity9am    24540 non-null  float64\n",
      " 14  Humidity3pm    24245 non-null  float64\n",
      " 15  Pressure9am    22422 non-null  float64\n",
      " 16  Pressure3pm    22442 non-null  float64\n",
      " 17  Cloud9am       15392 non-null  float64\n",
      " 18  Cloud3pm       14793 non-null  float64\n",
      " 19  Temp9am        24709 non-null  float64\n",
      " 20  Temp3pm        24426 non-null  float64\n",
      " 21  RainToday      24438 non-null  object \n",
      " 22  RainTomorrow   24451 non-null  object \n",
      "dtypes: float64(16), object(7)\n",
      "memory usage: 4.6+ MB\n"
     ]
    }
   ],
   "source": [
    "df.info()"
   ]
  },
  {
   "cell_type": "code",
   "execution_count": null,
   "id": "64c01abc",
   "metadata": {},
   "outputs": [],
   "source": []
  },
  {
   "cell_type": "code",
   "execution_count": null,
   "id": "c4e6dd3b",
   "metadata": {},
   "outputs": [],
   "source": []
  },
  {
   "cell_type": "code",
   "execution_count": null,
   "id": "a5f6bf74",
   "metadata": {},
   "outputs": [],
   "source": []
  },
  {
   "cell_type": "code",
   "execution_count": null,
   "id": "683424a3",
   "metadata": {},
   "outputs": [],
   "source": []
  },
  {
   "cell_type": "code",
   "execution_count": null,
   "id": "e1a6354c",
   "metadata": {},
   "outputs": [],
   "source": []
  },
  {
   "cell_type": "code",
   "execution_count": null,
   "id": "46b84d7e",
   "metadata": {},
   "outputs": [],
   "source": []
  }
 ],
 "metadata": {
  "kernelspec": {
   "display_name": "base",
   "language": "python",
   "name": "python3"
  },
  "language_info": {
   "codemirror_mode": {
    "name": "ipython",
    "version": 3
   },
   "file_extension": ".py",
   "mimetype": "text/x-python",
   "name": "python",
   "nbconvert_exporter": "python",
   "pygments_lexer": "ipython3",
   "version": "3.13.5"
  }
 },
 "nbformat": 4,
 "nbformat_minor": 5
}
