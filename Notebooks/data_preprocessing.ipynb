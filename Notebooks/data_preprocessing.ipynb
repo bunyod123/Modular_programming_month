{
 "cells": [
  {
   "cell_type": "code",
   "execution_count": 3,
   "id": "35aa73ed",
   "metadata": {},
   "outputs": [],
   "source": [
    "import pandas as pd\n",
    "import numpy as np\n",
    "\n",
    "from joblib import dump\n",
    "import os\n",
    "\n",
    "import matplotlib.pyplot as plt\n",
    "import seaborn as sns\n",
    "import klib\n",
    "\n",
    "from sklearn.model_selection import train_test_split, KFold,cross_val_score\n",
    "from sklearn.preprocessing import LabelEncoder\n",
    "from sklearn.preprocessing import MinMaxScaler\n",
    "\n",
    "minmax = MinMaxScaler()\n",
    "labeller = LabelEncoder()\n",
    "\n",
    "from sklearn.tree import DecisionTreeClassifier\n",
    "from sklearn.ensemble import RandomForestClassifier\n",
    "from sklearn.svm import SVC\n",
    "\n",
    "RF_Clas = RandomForestClassifier()\n",
    "DT_Clas = DecisionTreeClassifier()\n",
    "svc = SVC()"
   ]
  },
  {
   "cell_type": "markdown",
   "id": "feb778b9",
   "metadata": {},
   "source": [
    "# kesib olingan 25 ming qator datani chaqiramiz"
   ]
  },
  {
   "cell_type": "code",
   "execution_count": 6,
   "id": "f67170f5",
   "metadata": {},
   "outputs": [],
   "source": [
    "df = pd.read_csv(r'C:\\Users\\bunyo\\OneDrive\\Desktop\\git_project\\data\\raw_data\\sliced_data\\sliced_data.csv')"
   ]
  },
  {
   "cell_type": "code",
   "execution_count": 8,
   "id": "d8c9a89f",
   "metadata": {},
   "outputs": [
    {
     "name": "stdout",
     "output_type": "stream",
     "text": [
      "<class 'pandas.core.frame.DataFrame'>\n",
      "RangeIndex: 25000 entries, 0 to 24999\n",
      "Data columns (total 23 columns):\n",
      " #   Column         Non-Null Count  Dtype  \n",
      "---  ------         --------------  -----  \n",
      " 0   Date           25000 non-null  object \n",
      " 1   Location       25000 non-null  object \n",
      " 2   MinTemp        24754 non-null  float64\n",
      " 3   MaxTemp        24821 non-null  float64\n",
      " 4   Rainfall       24438 non-null  float64\n",
      " 5   Evaporation    14243 non-null  float64\n",
      " 6   Sunshine       13014 non-null  float64\n",
      " 7   WindGustDir    23222 non-null  object \n",
      " 8   WindGustSpeed  23235 non-null  float64\n",
      " 9   WindDir9am     23186 non-null  object \n",
      " 10  WindDir3pm     24277 non-null  object \n",
      " 11  WindSpeed9am   24684 non-null  float64\n",
      " 12  WindSpeed3pm   24490 non-null  float64\n",
      " 13  Humidity9am    24540 non-null  float64\n",
      " 14  Humidity3pm    24245 non-null  float64\n",
      " 15  Pressure9am    22422 non-null  float64\n",
      " 16  Pressure3pm    22442 non-null  float64\n",
      " 17  Cloud9am       15392 non-null  float64\n",
      " 18  Cloud3pm       14793 non-null  float64\n",
      " 19  Temp9am        24709 non-null  float64\n",
      " 20  Temp3pm        24426 non-null  float64\n",
      " 21  RainToday      24438 non-null  object \n",
      " 22  RainTomorrow   24451 non-null  object \n",
      "dtypes: float64(16), object(7)\n",
      "memory usage: 4.4+ MB\n"
     ]
    }
   ],
   "source": [
    "df.info()"
   ]
  },
  {
   "cell_type": "code",
   "execution_count": 9,
   "id": "991c61ce",
   "metadata": {},
   "outputs": [],
   "source": [
    "class Preprocessing:\n",
    "    def __init__(self,df):\n",
    "        self.df = df\n",
    "        \n",
    "# Encoding qiluvchi\n",
    "    def encoding_qilish(self):\n",
    "        for col in self.df.columns:\n",
    "            if self.df[col].dtype == 'object':\n",
    "                if self.df[col].nunique() <= 2:\n",
    "                    new_df = pd.get_dummies(self.df[col], prefix='New', dtype=int)\n",
    "                    self.df.drop(columns=[col],inplace=True)\n",
    "                    self.df = pd.concat([self.df,new_df],axis=1)\n",
    "                else:\n",
    "                    self.df[col] = labeller.fit_transform(self.df[col])\n",
    "        return self\n",
    "    \n",
    "# Scale qiluvchi\n",
    "    def scaling_qilish(self):\n",
    "        for cols in self.df.columns:\n",
    "            if self.df[cols].dtype != 'object' and self.df[cols].name != 'RainTomorrow':\n",
    "                self.df[cols] = minmax.fit_transform(self.df[[cols]])\n",
    "        return self\n",
    "    \n",
    "# To'ldruvchi\n",
    "    def fillingNan(self):\n",
    "        for cols in self.df.columns:\n",
    "            if self.df[cols].isnull().any():\n",
    "                if self.df[cols].dtype == 'object':\n",
    "                    self.df[cols].fillna(self.df[cols].mode()[0], inplace=True)\n",
    "                else:\n",
    "                    self.df[cols].fillna(self.df[cols].mean(),inplace=True)\n",
    "        return self          "
   ]
  },
  {
   "cell_type": "code",
   "execution_count": null,
   "id": "6dd6885e",
   "metadata": {},
   "outputs": [],
   "source": []
  }
 ],
 "metadata": {
  "kernelspec": {
   "display_name": "base",
   "language": "python",
   "name": "python3"
  },
  "language_info": {
   "codemirror_mode": {
    "name": "ipython",
    "version": 3
   },
   "file_extension": ".py",
   "mimetype": "text/x-python",
   "name": "python",
   "nbconvert_exporter": "python",
   "pygments_lexer": "ipython3",
   "version": "3.13.5"
  }
 },
 "nbformat": 4,
 "nbformat_minor": 5
}
