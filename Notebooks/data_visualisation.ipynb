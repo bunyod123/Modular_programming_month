{
 "cells": [
  {
   "cell_type": "code",
   "execution_count": 1,
   "id": "7925ea52",
   "metadata": {},
   "outputs": [],
   "source": [
    "import pandas as pd"
   ]
  },
  {
   "cell_type": "code",
   "execution_count": 2,
   "id": "5a632fae",
   "metadata": {},
   "outputs": [],
   "source": [
    "df = pd.read_csv(r'C:\\Users\\bunyo\\OneDrive\\Desktop\\git_project\\data\\raw_data\\sliced_data\\sliced_data.csv')"
   ]
  },
  {
   "cell_type": "code",
   "execution_count": 4,
   "id": "6b644cd6",
   "metadata": {},
   "outputs": [
    {
     "name": "stdout",
     "output_type": "stream",
     "text": [
      "<class 'pandas.core.frame.DataFrame'>\n",
      "RangeIndex: 25000 entries, 0 to 24999\n",
      "Data columns (total 23 columns):\n",
      " #   Column         Non-Null Count  Dtype  \n",
      "---  ------         --------------  -----  \n",
      " 0   Date           25000 non-null  object \n",
      " 1   Location       25000 non-null  object \n",
      " 2   MinTemp        24754 non-null  float64\n",
      " 3   MaxTemp        24821 non-null  float64\n",
      " 4   Rainfall       24438 non-null  float64\n",
      " 5   Evaporation    14243 non-null  float64\n",
      " 6   Sunshine       13014 non-null  float64\n",
      " 7   WindGustDir    23222 non-null  object \n",
      " 8   WindGustSpeed  23235 non-null  float64\n",
      " 9   WindDir9am     23186 non-null  object \n",
      " 10  WindDir3pm     24277 non-null  object \n",
      " 11  WindSpeed9am   24684 non-null  float64\n",
      " 12  WindSpeed3pm   24490 non-null  float64\n",
      " 13  Humidity9am    24540 non-null  float64\n",
      " 14  Humidity3pm    24245 non-null  float64\n",
      " 15  Pressure9am    22422 non-null  float64\n",
      " 16  Pressure3pm    22442 non-null  float64\n",
      " 17  Cloud9am       15392 non-null  float64\n",
      " 18  Cloud3pm       14793 non-null  float64\n",
      " 19  Temp9am        24709 non-null  float64\n",
      " 20  Temp3pm        24426 non-null  float64\n",
      " 21  RainToday      24438 non-null  object \n",
      " 22  RainTomorrow   24451 non-null  object \n",
      "dtypes: float64(16), object(7)\n",
      "memory usage: 4.4+ MB\n"
     ]
    }
   ],
   "source": [
    "df.info()"
   ]
  },
  {
   "cell_type": "code",
   "execution_count": null,
   "id": "caa6e674",
   "metadata": {},
   "outputs": [],
   "source": []
  },
  {
   "cell_type": "code",
   "execution_count": null,
   "id": "c5035b10",
   "metadata": {},
   "outputs": [],
   "source": []
  }
 ],
 "metadata": {
  "kernelspec": {
   "display_name": "base",
   "language": "python",
   "name": "python3"
  },
  "language_info": {
   "codemirror_mode": {
    "name": "ipython",
    "version": 3
   },
   "file_extension": ".py",
   "mimetype": "text/x-python",
   "name": "python",
   "nbconvert_exporter": "python",
   "pygments_lexer": "ipython3",
   "version": "3.13.5"
  }
 },
 "nbformat": 4,
 "nbformat_minor": 5
}
