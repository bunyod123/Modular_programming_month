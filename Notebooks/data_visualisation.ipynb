{
 "cells": [
  {
   "cell_type": "code",
   "execution_count": 5,
   "id": "7925ea52",
   "metadata": {},
   "outputs": [],
   "source": [
    "import pandas as pd\n",
    "import matplotlib.pyplot as plt\n",
    "import seaborn as sns"
   ]
  },
  {
   "cell_type": "code",
   "execution_count": 2,
   "id": "5a632fae",
   "metadata": {},
   "outputs": [],
   "source": [
    "df = pd.read_csv(r'C:\\Users\\bunyo\\OneDrive\\Desktop\\git_project\\data\\raw_data\\sliced_data\\sliced_data.csv')"
   ]
  },
  {
   "cell_type": "code",
   "execution_count": 4,
   "id": "6b644cd6",
   "metadata": {},
   "outputs": [
    {
     "name": "stdout",
     "output_type": "stream",
     "text": [
      "<class 'pandas.core.frame.DataFrame'>\n",
      "RangeIndex: 25000 entries, 0 to 24999\n",
      "Data columns (total 23 columns):\n",
      " #   Column         Non-Null Count  Dtype  \n",
      "---  ------         --------------  -----  \n",
      " 0   Date           25000 non-null  object \n",
      " 1   Location       25000 non-null  object \n",
      " 2   MinTemp        24754 non-null  float64\n",
      " 3   MaxTemp        24821 non-null  float64\n",
      " 4   Rainfall       24438 non-null  float64\n",
      " 5   Evaporation    14243 non-null  float64\n",
      " 6   Sunshine       13014 non-null  float64\n",
      " 7   WindGustDir    23222 non-null  object \n",
      " 8   WindGustSpeed  23235 non-null  float64\n",
      " 9   WindDir9am     23186 non-null  object \n",
      " 10  WindDir3pm     24277 non-null  object \n",
      " 11  WindSpeed9am   24684 non-null  float64\n",
      " 12  WindSpeed3pm   24490 non-null  float64\n",
      " 13  Humidity9am    24540 non-null  float64\n",
      " 14  Humidity3pm    24245 non-null  float64\n",
      " 15  Pressure9am    22422 non-null  float64\n",
      " 16  Pressure3pm    22442 non-null  float64\n",
      " 17  Cloud9am       15392 non-null  float64\n",
      " 18  Cloud3pm       14793 non-null  float64\n",
      " 19  Temp9am        24709 non-null  float64\n",
      " 20  Temp3pm        24426 non-null  float64\n",
      " 21  RainToday      24438 non-null  object \n",
      " 22  RainTomorrow   24451 non-null  object \n",
      "dtypes: float64(16), object(7)\n",
      "memory usage: 4.4+ MB\n"
     ]
    }
   ],
   "source": [
    "df.info()"
   ]
  },
  {
   "cell_type": "code",
   "execution_count": 13,
   "id": "d50cc061",
   "metadata": {},
   "outputs": [
    {
     "data": {
      "application/vnd.microsoft.datawrangler.viewer.v0+json": {
       "columns": [
        {
         "name": "index",
         "rawType": "object",
         "type": "string"
        },
        {
         "name": "0",
         "rawType": "int64",
         "type": "integer"
        }
       ],
       "ref": "93fdd82f-fefa-44fc-8823-d8bdc614e61f",
       "rows": [
        [
         "Date",
         "3220"
        ],
        [
         "Location",
         "49"
        ],
        [
         "MinTemp",
         "361"
        ],
        [
         "MaxTemp",
         "458"
        ],
        [
         "Rainfall",
         "371"
        ],
        [
         "Evaporation",
         "223"
        ],
        [
         "Sunshine",
         "141"
        ],
        [
         "WindGustDir",
         "16"
        ],
        [
         "WindGustSpeed",
         "60"
        ],
        [
         "WindDir9am",
         "16"
        ],
        [
         "WindDir3pm",
         "16"
        ],
        [
         "WindSpeed9am",
         "35"
        ],
        [
         "WindSpeed3pm",
         "39"
        ],
        [
         "Humidity9am",
         "100"
        ],
        [
         "Humidity3pm",
         "100"
        ],
        [
         "Pressure9am",
         "477"
        ],
        [
         "Pressure3pm",
         "480"
        ],
        [
         "Cloud9am",
         "9"
        ],
        [
         "Cloud3pm",
         "9"
        ],
        [
         "Temp9am",
         "400"
        ],
        [
         "Temp3pm",
         "446"
        ],
        [
         "RainToday",
         "2"
        ],
        [
         "RainTomorrow",
         "2"
        ]
       ],
       "shape": {
        "columns": 1,
        "rows": 23
       }
      },
      "text/plain": [
       "Date             3220\n",
       "Location           49\n",
       "MinTemp           361\n",
       "MaxTemp           458\n",
       "Rainfall          371\n",
       "Evaporation       223\n",
       "Sunshine          141\n",
       "WindGustDir        16\n",
       "WindGustSpeed      60\n",
       "WindDir9am         16\n",
       "WindDir3pm         16\n",
       "WindSpeed9am       35\n",
       "WindSpeed3pm       39\n",
       "Humidity9am       100\n",
       "Humidity3pm       100\n",
       "Pressure9am       477\n",
       "Pressure3pm       480\n",
       "Cloud9am            9\n",
       "Cloud3pm            9\n",
       "Temp9am           400\n",
       "Temp3pm           446\n",
       "RainToday           2\n",
       "RainTomorrow        2\n",
       "dtype: int64"
      ]
     },
     "execution_count": 13,
     "metadata": {},
     "output_type": "execute_result"
    }
   ],
   "source": [
    "df.nunique()"
   ]
  },
  {
   "cell_type": "markdown",
   "id": "8ce76545",
   "metadata": {},
   "source": [
    "# Datasetni data typelarini tekshiramiz"
   ]
  },
  {
   "cell_type": "code",
   "execution_count": 8,
   "id": "caa6e674",
   "metadata": {},
   "outputs": [],
   "source": [
    "data_type = df.dtypes.value_counts()"
   ]
  },
  {
   "cell_type": "code",
   "execution_count": 11,
   "id": "c7af3b0f",
   "metadata": {},
   "outputs": [
    {
     "data": {
      "image/png": "[encoded data removed]",
      "text/plain": [
       "<Figure size 800x600 with 1 Axes>"
      ]
     },
     "metadata": {},
     "output_type": "display_data"
    }
   ],
   "source": [
    "plt.figure(figsize=(8,6))\n",
    "plt.pie(data_type, labels=['object','float'], explode=[0.1,0.1], autopct='%1.1f%%',shadow=True, startangle=90)\n",
    "plt.title('Float va object datalar nisbati')\n",
    "plt.show()"
   ]
  },
  {
   "cell_type": "code",
   "execution_count": null,
   "id": "89b955a5",
   "metadata": {},
   "outputs": [],
   "source": []
  }
 ],
 "metadata": {
  "kernelspec": {
   "display_name": "base",
   "language": "python",
   "name": "python3"
  },
  "language_info": {
   "codemirror_mode": {
    "name": "ipython",
    "version": 3
   },
   "file_extension": ".py",
   "mimetype": "text/x-python",
   "name": "python",
   "nbconvert_exporter": "python",
   "pygments_lexer": "ipython3",
   "version": "3.13.5"
  }
 },
 "nbformat": 4,
 "nbformat_minor": 5
}
