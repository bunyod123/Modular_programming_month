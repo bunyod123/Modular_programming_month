{
 "cells": [
  {
   "cell_type": "markdown",
   "id": "823914c5",
   "metadata": {},
   "source": [
    "# Kerakli kutubxonalarni chaqiramiz"
   ]
  },
  {
   "cell_type": "code",
   "execution_count": null,
   "id": "6f829560",
   "metadata": {},
   "outputs": [],
   "source": [
    "import pandas as pd\n",
    "import numpy as np\n",
    "\n",
    "from joblib import dump\n",
    "import os\n",
    "\n",
    "from sklearn.model_selection import train_test_split, KFold,cross_val_score\n",
    "\n",
    "from sklearn.tree import DecisionTreeRegressor\n",
    "from sklearn.ensemble import RandomForestRegressor\n",
    "from sklearn.svm import SVR\n",
    "from sklearn.linear_model import LinearRegression\n",
    "\n",
    "DT_Reg = DecisionTreeRegressor()\n",
    "RF_Reg = RandomForestRegressor()\n",
    "svr = SVR()\n",
    "LR_Reg = LinearRegression()\n",
    "\n",
    "from sklearn.metrics import r2_score,mean_absolute_error"
   ]
  },
  {
   "cell_type": "markdown",
   "id": "57407130",
   "metadata": {},
   "source": [
    "# datasetni yuklaymiz"
   ]
  },
  {
   "cell_type": "code",
   "execution_count": 2,
   "id": "177c93ef",
   "metadata": {},
   "outputs": [],
   "source": [
    "df = pd.read_csv(r'C:\\Users\\bunyo\\OneDrive\\Desktop\\git_project\\data\\preprocessed_data\\preprocessed_data.csv')"
   ]
  },
  {
   "cell_type": "code",
   "execution_count": 4,
   "id": "762e4e95",
   "metadata": {},
   "outputs": [
    {
     "name": "stdout",
     "output_type": "stream",
     "text": [
      "<class 'pandas.core.frame.DataFrame'>\n",
      "RangeIndex: 25000 entries, 0 to 24999\n",
      "Data columns (total 22 columns):\n",
      " #   Column         Non-Null Count  Dtype  \n",
      "---  ------         --------------  -----  \n",
      " 0   Date           25000 non-null  float64\n",
      " 1   Location       25000 non-null  float64\n",
      " 2   MinTemp        25000 non-null  float64\n",
      " 3   MaxTemp        25000 non-null  float64\n",
      " 4   Rainfall       25000 non-null  float64\n",
      " 5   Evaporation    25000 non-null  float64\n",
      " 6   Sunshine       25000 non-null  float64\n",
      " 7   WindGustDir    25000 non-null  float64\n",
      " 8   WindGustSpeed  25000 non-null  float64\n",
      " 9   WindDir9am     25000 non-null  float64\n",
      " 10  WindDir3pm     25000 non-null  float64\n",
      " 11  WindSpeed9am   25000 non-null  float64\n",
      " 12  WindSpeed3pm   25000 non-null  float64\n",
      " 13  Humidity9am    25000 non-null  float64\n",
      " 14  Humidity3pm    25000 non-null  float64\n",
      " 15  Pressure9am    25000 non-null  float64\n",
      " 16  Pressure3pm    25000 non-null  float64\n",
      " 17  Cloud9am       25000 non-null  float64\n",
      " 18  Cloud3pm       25000 non-null  float64\n",
      " 19  Temp9am        25000 non-null  float64\n",
      " 20  Temp3pm        25000 non-null  float64\n",
      " 21  RainTomorrow   25000 non-null  float64\n",
      "dtypes: float64(22)\n",
      "memory usage: 4.2 MB\n"
     ]
    }
   ],
   "source": [
    "df.info()"
   ]
  },
  {
   "cell_type": "markdown",
   "id": "e434270f",
   "metadata": {},
   "source": [
    "# filter orqali yaxshi featurelarni olamiz"
   ]
  },
  {
   "cell_type": "code",
   "execution_count": 9,
   "id": "a3f237b0",
   "metadata": {},
   "outputs": [
    {
     "data": {
      "text/plain": [
       "Date            -0.007687\n",
       "Location        -0.000092\n",
       "MinTemp          0.090613\n",
       "MaxTemp         -0.150775\n",
       "Rainfall         0.245760\n",
       "Evaporation     -0.077323\n",
       "Sunshine        -0.316011\n",
       "WindGustDir      0.052806\n",
       "WindGustSpeed    0.222305\n",
       "WindDir9am       0.033265\n",
       "WindDir3pm       0.029994\n",
       "WindSpeed9am     0.090808\n",
       "WindSpeed3pm     0.079471\n",
       "Humidity9am      0.262566\n",
       "Humidity3pm      0.432617\n",
       "Pressure9am     -0.238477\n",
       "Pressure3pm     -0.220121\n",
       "Cloud9am         0.247934\n",
       "Cloud3pm         0.291763\n",
       "Temp9am         -0.018161\n",
       "Temp3pm         -0.182194\n",
       "RainTomorrow     1.000000\n",
       "Name: RainTomorrow, dtype: float64"
      ]
     },
     "execution_count": 9,
     "metadata": {},
     "output_type": "execute_result"
    }
   ],
   "source": [
    "corr_df = df.corr()['RainTomorrow']\n",
    "corr_df"
   ]
  },
  {
   "cell_type": "code",
   "execution_count": 37,
   "id": "2b1c369e",
   "metadata": {},
   "outputs": [
    {
     "data": {
      "text/plain": [
       "Rainfall         0.245760\n",
       "Sunshine        -0.316011\n",
       "WindGustSpeed    0.222305\n",
       "Humidity9am      0.262566\n",
       "Humidity3pm      0.432617\n",
       "Pressure9am     -0.238477\n",
       "Pressure3pm     -0.220121\n",
       "Cloud9am         0.247934\n",
       "Cloud3pm         0.291763\n",
       "RainTomorrow     1.000000\n",
       "Name: RainTomorrow, dtype: float64"
      ]
     },
     "execution_count": 37,
     "metadata": {},
     "output_type": "execute_result"
    }
   ],
   "source": [
    "corr_df1 = corr_df[abs(corr_df) > 0.2]\n",
    "corr_df1"
   ]
  },
  {
   "cell_type": "code",
   "execution_count": 38,
   "id": "24aea096",
   "metadata": {},
   "outputs": [],
   "source": [
    "df1 = df[corr_df1.index]"
   ]
  },
  {
   "cell_type": "markdown",
   "id": "2f2aeb1e",
   "metadata": {},
   "source": [
    "# Qolgan dataset bilan boshqa dataset yasaymiz"
   ]
  },
  {
   "cell_type": "code",
   "execution_count": null,
   "id": "267f620d",
   "metadata": {},
   "outputs": [],
   "source": [
    "df1['AverageHumidity'] = (df1['Humidity9am'] + df1['Humidity3pm']) / 2\n",
    "df1['AvgPressure'] = (df1['Pressure9am'] + df1['Pressure3pm']) /2\n",
    "df1['AvrCloud'] = (df1['Cloud9am'] + df1['Cloud3pm']) / 2"
   ]
  },
  {
   "cell_type": "code",
   "execution_count": 49,
   "id": "b8562073",
   "metadata": {},
   "outputs": [
    {
     "name": "stdout",
     "output_type": "stream",
     "text": [
      "<class 'pandas.core.frame.DataFrame'>\n",
      "RangeIndex: 25000 entries, 0 to 24999\n",
      "Data columns (total 13 columns):\n",
      " #   Column           Non-Null Count  Dtype  \n",
      "---  ------           --------------  -----  \n",
      " 0   Rainfall         25000 non-null  float64\n",
      " 1   Sunshine         25000 non-null  float64\n",
      " 2   WindGustSpeed    25000 non-null  float64\n",
      " 3   Humidity9am      25000 non-null  float64\n",
      " 4   Humidity3pm      25000 non-null  float64\n",
      " 5   Pressure9am      25000 non-null  float64\n",
      " 6   Pressure3pm      25000 non-null  float64\n",
      " 7   Cloud9am         25000 non-null  float64\n",
      " 8   Cloud3pm         25000 non-null  float64\n",
      " 9   RainTomorrow     25000 non-null  float64\n",
      " 10  AverageHumidity  25000 non-null  float64\n",
      " 11  AvgPressure      25000 non-null  float64\n",
      " 12  AvrCloud         25000 non-null  float64\n",
      "dtypes: float64(13)\n",
      "memory usage: 2.5 MB\n"
     ]
    }
   ],
   "source": [
    "df1.info()"
   ]
  },
  {
   "cell_type": "code",
   "execution_count": 51,
   "id": "7af2c491",
   "metadata": {},
   "outputs": [
    {
     "data": {
      "text/plain": [
       "Rainfall           0.245760\n",
       "Sunshine          -0.316011\n",
       "WindGustSpeed      0.222305\n",
       "Humidity9am        0.262566\n",
       "Humidity3pm        0.432617\n",
       "Pressure9am       -0.238477\n",
       "Pressure3pm       -0.220121\n",
       "Cloud9am           0.247934\n",
       "Cloud3pm           0.291763\n",
       "RainTomorrow       1.000000\n",
       "AverageHumidity    0.307166\n",
       "AvgPressure       -0.231589\n",
       "AvrCloud           0.306574\n",
       "Name: RainTomorrow, dtype: float64"
      ]
     },
     "execution_count": 51,
     "metadata": {},
     "output_type": "execute_result"
    }
   ],
   "source": [
    "df1.corr()['RainTomorrow']"
   ]
  },
  {
   "cell_type": "code",
   "execution_count": null,
   "id": "f11b81e0",
   "metadata": {},
   "outputs": [],
   "source": []
  }
 ],
 "metadata": {
  "kernelspec": {
   "display_name": "base",
   "language": "python",
   "name": "python3"
  },
  "language_info": {
   "codemirror_mode": {
    "name": "ipython",
    "version": 3
   },
   "file_extension": ".py",
   "mimetype": "text/x-python",
   "name": "python",
   "nbconvert_exporter": "python",
   "pygments_lexer": "ipython3",
   "version": "3.13.5"
  }
 },
 "nbformat": 4,
 "nbformat_minor": 5
}
