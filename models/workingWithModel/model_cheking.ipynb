{
 "cells": [
  {
   "cell_type": "markdown",
   "id": "823914c5",
   "metadata": {},
   "source": [
    "# Kerakli kutubxonalarni chaqiramiz"
   ]
  },
  {
   "cell_type": "code",
   "execution_count": null,
   "id": "6f829560",
   "metadata": {},
   "outputs": [],
   "source": [
    "import pandas as pd\n",
    "import numpy as np\n",
    "\n",
    "from joblib import dump\n",
    "import os\n",
    "\n",
    "from sklearn.model_selection import train_test_split, KFold,cross_val_score\n",
    "\n",
    "from sklearn.tree import DecisionTreeRegressor\n",
    "from sklearn.ensemble import RandomForestRegressor\n",
    "from sklearn.svm import SVR\n",
    "from sklearn.linear_model import LinearRegression\n",
    "\n",
    "DT_Reg = DecisionTreeRegressor()\n",
    "RF_Reg = RandomForestRegressor()\n",
    "svr = SVR()\n",
    "LR_Reg = LinearRegression()\n",
    "\n",
    "from sklearn.metrics import r2_score,mean_absolute_error"
   ]
  },
  {
   "cell_type": "markdown",
   "id": "57407130",
   "metadata": {},
   "source": [
    "# datasetni yuklaymiz"
   ]
  },
  {
   "cell_type": "code",
   "execution_count": 2,
   "id": "177c93ef",
   "metadata": {},
   "outputs": [],
   "source": [
    "df = pd.read_csv(r'C:\\Users\\bunyo\\OneDrive\\Desktop\\git_project\\data\\preprocessed_data\\preprocessed_data.csv')"
   ]
  },
  {
   "cell_type": "code",
   "execution_count": 4,
   "id": "762e4e95",
   "metadata": {},
   "outputs": [
    {
     "name": "stdout",
     "output_type": "stream",
     "text": [
      "<class 'pandas.core.frame.DataFrame'>\n",
      "RangeIndex: 25000 entries, 0 to 24999\n",
      "Data columns (total 22 columns):\n",
      " #   Column         Non-Null Count  Dtype  \n",
      "---  ------         --------------  -----  \n",
      " 0   Date           25000 non-null  float64\n",
      " 1   Location       25000 non-null  float64\n",
      " 2   MinTemp        25000 non-null  float64\n",
      " 3   MaxTemp        25000 non-null  float64\n",
      " 4   Rainfall       25000 non-null  float64\n",
      " 5   Evaporation    25000 non-null  float64\n",
      " 6   Sunshine       25000 non-null  float64\n",
      " 7   WindGustDir    25000 non-null  float64\n",
      " 8   WindGustSpeed  25000 non-null  float64\n",
      " 9   WindDir9am     25000 non-null  float64\n",
      " 10  WindDir3pm     25000 non-null  float64\n",
      " 11  WindSpeed9am   25000 non-null  float64\n",
      " 12  WindSpeed3pm   25000 non-null  float64\n",
      " 13  Humidity9am    25000 non-null  float64\n",
      " 14  Humidity3pm    25000 non-null  float64\n",
      " 15  Pressure9am    25000 non-null  float64\n",
      " 16  Pressure3pm    25000 non-null  float64\n",
      " 17  Cloud9am       25000 non-null  float64\n",
      " 18  Cloud3pm       25000 non-null  float64\n",
      " 19  Temp9am        25000 non-null  float64\n",
      " 20  Temp3pm        25000 non-null  float64\n",
      " 21  RainTomorrow   25000 non-null  float64\n",
      "dtypes: float64(22)\n",
      "memory usage: 4.2 MB\n"
     ]
    }
   ],
   "source": [
    "df.info()"
   ]
  },
  {
   "cell_type": "code",
   "execution_count": null,
   "id": "a3f237b0",
   "metadata": {},
   "outputs": [],
   "source": []
  },
  {
   "cell_type": "code",
   "execution_count": null,
   "id": "24aea096",
   "metadata": {},
   "outputs": [],
   "source": []
  }
 ],
 "metadata": {
  "kernelspec": {
   "display_name": "base",
   "language": "python",
   "name": "python3"
  },
  "language_info": {
   "codemirror_mode": {
    "name": "ipython",
    "version": 3
   },
   "file_extension": ".py",
   "mimetype": "text/x-python",
   "name": "python",
   "nbconvert_exporter": "python",
   "pygments_lexer": "ipython3",
   "version": "3.13.5"
  }
 },
 "nbformat": 4,
 "nbformat_minor": 5
}
