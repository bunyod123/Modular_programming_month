{
 "cells": [
  {
   "cell_type": "markdown",
   "id": "96f56d94",
   "metadata": {},
   "source": [
    "# kutubxonalarni chaqiramiz"
   ]
  },
  {
   "cell_type": "code",
   "execution_count": 1,
   "id": "35aa73ed",
   "metadata": {},
   "outputs": [],
   "source": [
    "import pandas as pd\n",
    "import numpy as np\n",
    "\n",
    "from sklearn.preprocessing import LabelEncoder\n",
    "from sklearn.preprocessing import MinMaxScaler\n",
    "\n",
    "minmax = MinMaxScaler()\n",
    "labeller = LabelEncoder()\n",
    "\n",
    "from sklearn.preprocessing import PowerTransformer\n",
    "pt = PowerTransformer(method='yeo-johnson', standardize=True)"
   ]
  },
  {
   "cell_type": "markdown",
   "id": "feb778b9",
   "metadata": {},
   "source": [
    "# kesib olingan 25 ming qator datani chaqiramiz"
   ]
  },
  {
   "cell_type": "code",
   "execution_count": 104,
   "id": "f67170f5",
   "metadata": {},
   "outputs": [],
   "source": [
    "df = pd.read_csv(r'C:\\Users\\bunyo\\OneDrive\\Desktop\\git_project\\data\\raw_data\\sliced_data\\sliced_data.csv')"
   ]
  },
  {
   "cell_type": "code",
   "execution_count": 92,
   "id": "d8c9a89f",
   "metadata": {},
   "outputs": [
    {
     "name": "stdout",
     "output_type": "stream",
     "text": [
      "<class 'pandas.core.frame.DataFrame'>\n",
      "RangeIndex: 25000 entries, 0 to 24999\n",
      "Data columns (total 23 columns):\n",
      " #   Column         Non-Null Count  Dtype  \n",
      "---  ------         --------------  -----  \n",
      " 0   Date           25000 non-null  object \n",
      " 1   Location       25000 non-null  object \n",
      " 2   MinTemp        24754 non-null  float64\n",
      " 3   MaxTemp        24821 non-null  float64\n",
      " 4   Rainfall       24438 non-null  float64\n",
      " 5   Evaporation    14243 non-null  float64\n",
      " 6   Sunshine       13014 non-null  float64\n",
      " 7   WindGustDir    23222 non-null  object \n",
      " 8   WindGustSpeed  23235 non-null  float64\n",
      " 9   WindDir9am     23186 non-null  object \n",
      " 10  WindDir3pm     24277 non-null  object \n",
      " 11  WindSpeed9am   24684 non-null  float64\n",
      " 12  WindSpeed3pm   24490 non-null  float64\n",
      " 13  Humidity9am    24540 non-null  float64\n",
      " 14  Humidity3pm    24245 non-null  float64\n",
      " 15  Pressure9am    22422 non-null  float64\n",
      " 16  Pressure3pm    22442 non-null  float64\n",
      " 17  Cloud9am       15392 non-null  float64\n",
      " 18  Cloud3pm       14793 non-null  float64\n",
      " 19  Temp9am        24709 non-null  float64\n",
      " 20  Temp3pm        24426 non-null  float64\n",
      " 21  RainToday      24438 non-null  object \n",
      " 22  RainTomorrow   24451 non-null  object \n",
      "dtypes: float64(16), object(7)\n",
      "memory usage: 4.4+ MB\n"
     ]
    }
   ],
   "source": [
    "df.info()"
   ]
  },
  {
   "cell_type": "markdown",
   "id": "c9064097",
   "metadata": {},
   "source": [
    "# class orqli dataga ishlov beramiz"
   ]
  },
  {
   "cell_type": "code",
   "execution_count": 105,
   "id": "991c61ce",
   "metadata": {},
   "outputs": [],
   "source": [
    "class Preprocessing:\n",
    "    def __init__(self,df):\n",
    "        self.df = df\n",
    "        \n",
    "# Encoding qiluvchi\n",
    "    def encoding_qilish(self):\n",
    "        for col in self.df.columns:\n",
    "            if self.df[col].dtype == 'object':\n",
    "                if self.df[col].nunique() <= 3:\n",
    "                    new_df = pd.get_dummies(self.df[col], prefix='New', dtype=int)\n",
    "                    self.df.drop(columns=[col],inplace=True)\n",
    "                    self.df = pd.concat([self.df,new_df],axis=1)\n",
    "                else:\n",
    "                    self.df[col] = labeller.fit_transform(self.df[col])\n",
    "        return self\n",
    "    \n",
    "\n",
    "# Scale qiluvchi\n",
    "    def scaling_qilish(self): \n",
    "        for cols in self.df.columns: \n",
    "            if self.df[cols].dtype != 'object' and self.df[cols].name != 'RainTomorrow': \n",
    "                self.df[cols] = minmax.fit_transform(self.df[[cols]]) \n",
    "        return self\n",
    "\n",
    "\n",
    "# To'ldruvchi\n",
    "    def fillingNan(self):\n",
    "        for cols in self.df.columns:\n",
    "            if self.df[cols].isnull().any():\n",
    "                if self.df[cols].dtype == 'object':\n",
    "                    self.df[cols].fillna(self.df[cols].mode()[0], inplace=True)\n",
    "                else:\n",
    "                    self.df[cols].fillna(self.df[cols].mean(),inplace=True)\n",
    "        return self         \n",
    "    \n",
    "\n",
    "# skewnewssni tog'irlash (log bilan)\n",
    "    def log_transform(self, chegara = 0.7):\n",
    "        skewness = self.df.skew()\n",
    "        features_log = skewness[(skewness >= chegara)].index.tolist()\n",
    "        \n",
    "        for col in features_log:\n",
    "            if (self.df[col] > 0).all():  # only positive values\n",
    "                self.df[col] = np.log1p(self.df[col])\n",
    "        return self\n",
    "    \n",
    "\n",
    "# skewnessni power bilan togirlash\n",
    "    def power_transform(self, chegara = 0):\n",
    "        skewness = self.df.skew()\n",
    "        Pow_transform = skewness[(skewness < chegara)].index.to_list()\n",
    "\n",
    "        for col in Pow_transform:\n",
    "            self.df[col] = pt.fit_transform(self.df[[col]])  #pt atamasi power Transform degani tepada shunday sozga biriktirilgan\n",
    "        return self.df"
   ]
  },
  {
   "cell_type": "markdown",
   "id": "b8ddac39",
   "metadata": {},
   "source": [
    "# Target qiymatni numeric ga o'tkizamiz"
   ]
  },
  {
   "cell_type": "code",
   "execution_count": 107,
   "id": "cec95883",
   "metadata": {},
   "outputs": [],
   "source": [
    "df['RainTomorrow'].replace({'No': 0, 'Yes': 1},inplace = True)"
   ]
  },
  {
   "cell_type": "markdown",
   "id": "c14600d3",
   "metadata": {},
   "source": [
    "# class ni ishlatib dataga ishlov beramiz"
   ]
  },
  {
   "cell_type": "code",
   "execution_count": 109,
   "id": "9a6d07d8",
   "metadata": {},
   "outputs": [],
   "source": [
    "pre_processing = Preprocessing(df)\n",
    "df1 = pre_processing.fillingNan().encoding_qilish().scaling_qilish().log_transform().power_transform()"
   ]
  },
  {
   "cell_type": "code",
   "execution_count": 111,
   "id": "03850b2f",
   "metadata": {},
   "outputs": [
    {
     "name": "stdout",
     "output_type": "stream",
     "text": [
      "<class 'pandas.core.frame.DataFrame'>\n",
      "RangeIndex: 25000 entries, 0 to 24999\n",
      "Data columns (total 22 columns):\n",
      " #   Column         Non-Null Count  Dtype  \n",
      "---  ------         --------------  -----  \n",
      " 0   Date           25000 non-null  float64\n",
      " 1   Location       25000 non-null  float64\n",
      " 2   MinTemp        25000 non-null  float64\n",
      " 3   MaxTemp        25000 non-null  float64\n",
      " 4   Rainfall       25000 non-null  float64\n",
      " 5   Evaporation    25000 non-null  float64\n",
      " 6   Sunshine       25000 non-null  float64\n",
      " 7   WindGustDir    25000 non-null  float64\n",
      " 8   WindGustSpeed  25000 non-null  float64\n",
      " 9   WindDir9am     25000 non-null  float64\n",
      " 10  WindDir3pm     25000 non-null  float64\n",
      " 11  WindSpeed9am   25000 non-null  float64\n",
      " 12  WindSpeed3pm   25000 non-null  float64\n",
      " 13  Humidity9am    25000 non-null  float64\n",
      " 14  Humidity3pm    25000 non-null  float64\n",
      " 15  Pressure9am    25000 non-null  float64\n",
      " 16  Pressure3pm    25000 non-null  float64\n",
      " 17  Cloud9am       25000 non-null  float64\n",
      " 18  Cloud3pm       25000 non-null  float64\n",
      " 19  Temp9am        25000 non-null  float64\n",
      " 20  Temp3pm        25000 non-null  float64\n",
      " 21  RainTomorrow   25000 non-null  float64\n",
      "dtypes: float64(22)\n",
      "memory usage: 4.2 MB\n"
     ]
    }
   ],
   "source": [
    "df1.info()"
   ]
  },
  {
   "cell_type": "markdown",
   "id": "066482c7",
   "metadata": {},
   "source": [
    "# preprocessed datani saqlaymiz"
   ]
  },
  {
   "cell_type": "code",
   "execution_count": 112,
   "id": "e5f15e24",
   "metadata": {},
   "outputs": [],
   "source": [
    "import os"
   ]
  },
  {
   "cell_type": "code",
   "execution_count": 115,
   "id": "ba3dc256",
   "metadata": {},
   "outputs": [],
   "source": [
    "folder = r'C:\\Users\\bunyo\\OneDrive\\Desktop\\git_project\\data\\preprocessed_data'\n",
    "path = os.path.join(folder,'preprocessed_data.csv')\n",
    "df1.to_csv(path, index=False)"
   ]
  }
 ],
 "metadata": {
  "kernelspec": {
   "display_name": "base",
   "language": "python",
   "name": "python3"
  },
  "language_info": {
   "codemirror_mode": {
    "name": "ipython",
    "version": 3
   },
   "file_extension": ".py",
   "mimetype": "text/x-python",
   "name": "python",
   "nbconvert_exporter": "python",
   "pygments_lexer": "ipython3",
   "version": "3.13.5"
  }
 },
 "nbformat": 4,
 "nbformat_minor": 5
}
